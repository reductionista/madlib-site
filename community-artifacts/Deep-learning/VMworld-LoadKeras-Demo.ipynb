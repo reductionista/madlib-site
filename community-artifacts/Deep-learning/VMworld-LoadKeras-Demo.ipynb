{
 "cells": [
  {
   "cell_type": "code",
   "execution_count": 1,
   "metadata": {},
   "outputs": [],
   "source": [
    "import pandas\n",
    "from psycopg2.extensions import QuotedString"
   ]
  },
  {
   "cell_type": "code",
   "execution_count": 2,
   "metadata": {},
   "outputs": [],
   "source": [
    "homedir = %env HOME\n",
    "%load_ext sql\n",
    "%config SqlMagic.short_errors=False\n",
    "%config SqlMagic.dsn_filename='{homedir}/odbc.ini'  # Read from DSN config file with commonly used connections.\n",
    "%config SqlMagic.autopandas=True\n",
    "%sql [local_mnist]"
   ]
  },
  {
   "cell_type": "code",
   "execution_count": 3,
   "metadata": {},
   "outputs": [],
   "source": [
    "d = %sql -l   # Share same connection between SqlMagic and psycopg2\n",
    "conn = list(d.values())[0].session.connection.connection     # Get psycopg2 Connection object from within SqlAlchemy within SqlMagic\n",
    "conn.autocommit = True                                       # Automatically commit after every call to %sql or cur.execute()\n",
    "cur = conn.cursor()"
   ]
  },
  {
   "cell_type": "code",
   "execution_count": 4,
   "metadata": {},
   "outputs": [
    {
     "data": {
      "text/plain": [
       "{'postgresql://dominovaldano@localhost:6000/mnist': <sql.connection.Connection at 0x10bbef730>}"
      ]
     },
     "execution_count": 4,
     "metadata": {},
     "output_type": "execute_result"
    }
   ],
   "source": [
    "%sql -l"
   ]
  },
  {
   "cell_type": "markdown",
   "metadata": {},
   "source": [
    "## Define Keras Model"
   ]
  },
  {
   "cell_type": "code",
   "execution_count": 5,
   "metadata": {},
   "outputs": [],
   "source": [
    "import keras\n",
    "from keras.models import Sequential\n",
    "from keras.layers import Dense"
   ]
  },
  {
   "cell_type": "code",
   "execution_count": 6,
   "metadata": {},
   "outputs": [
    {
     "name": "stdout",
     "output_type": "stream",
     "text": [
      "Model: \"sequential\"\n",
      "_________________________________________________________________\n",
      "Layer (type)                 Output Shape              Param #   \n",
      "=================================================================\n",
      "dense (Dense)                (None, 10)                50        \n",
      "_________________________________________________________________\n",
      "dense_1 (Dense)              (None, 10)                110       \n",
      "_________________________________________________________________\n",
      "dense_2 (Dense)              (None, 3)                 33        \n",
      "=================================================================\n",
      "Total params: 193\n",
      "Trainable params: 193\n",
      "Non-trainable params: 0\n",
      "_________________________________________________________________\n"
     ]
    }
   ],
   "source": [
    "model = Sequential()\n",
    "model.add(Dense(10, activation='relu', input_shape=(4,)))\n",
    "model.add(Dense(10, activation='relu'))\n",
    "model.add(Dense(3, activation='softmax'))\n",
    "    \n",
    "model.summary()\n",
    "json_model = model.to_json()"
   ]
  },
  {
   "cell_type": "markdown",
   "metadata": {},
   "source": [
    "## Load Keras Model (SQLMagic method)"
   ]
  },
  {
   "cell_type": "code",
   "execution_count": 7,
   "metadata": {},
   "outputs": [],
   "source": [
    "qmodel =  QuotedString(json_model)"
   ]
  },
  {
   "cell_type": "code",
   "execution_count": 8,
   "metadata": {},
   "outputs": [
    {
     "name": "stdout",
     "output_type": "stream",
     "text": [
      " * postgresql://dominovaldano@localhost:6000/mnist\n",
      "Done.\n",
      "1 rows affected.\n"
     ]
    },
    {
     "data": {
      "text/html": [
       "<div>\n",
       "<style scoped>\n",
       "    .dataframe tbody tr th:only-of-type {\n",
       "        vertical-align: middle;\n",
       "    }\n",
       "\n",
       "    .dataframe tbody tr th {\n",
       "        vertical-align: top;\n",
       "    }\n",
       "\n",
       "    .dataframe thead th {\n",
       "        text-align: right;\n",
       "    }\n",
       "</style>\n",
       "<table border=\"1\" class=\"dataframe\">\n",
       "  <thead>\n",
       "    <tr style=\"text-align: right;\">\n",
       "      <th></th>\n",
       "      <th>load_keras_model</th>\n",
       "    </tr>\n",
       "  </thead>\n",
       "  <tbody>\n",
       "    <tr>\n",
       "      <th>0</th>\n",
       "      <td></td>\n",
       "    </tr>\n",
       "  </tbody>\n",
       "</table>\n",
       "</div>"
      ],
      "text/plain": [
       "  load_keras_model\n",
       "0                 "
      ]
     },
     "execution_count": 8,
     "metadata": {},
     "output_type": "execute_result"
    }
   ],
   "source": [
    "%%sql \n",
    "DROP TABLE IF EXISTS model_arch_library;\n",
    "SELECT madlib.load_keras_model('model_arch_library',            -- Output table\n",
    "                                 {qmodel}::JSON,  -- Model architecture\n",
    "                                 NULL,\n",
    "                                 'Domino',                          -- Name of model\n",
    "                                 'A simple model'                   -- Model description\n",
    ");"
   ]
  },
  {
   "cell_type": "code",
   "execution_count": 9,
   "metadata": {},
   "outputs": [
    {
     "name": "stdout",
     "output_type": "stream",
     "text": [
      " * postgresql://dominovaldano@localhost:6000/mnist\n",
      "1 rows affected.\n"
     ]
    },
    {
     "data": {
      "text/html": [
       "<div>\n",
       "<style scoped>\n",
       "    .dataframe tbody tr th:only-of-type {\n",
       "        vertical-align: middle;\n",
       "    }\n",
       "\n",
       "    .dataframe tbody tr th {\n",
       "        vertical-align: top;\n",
       "    }\n",
       "\n",
       "    .dataframe thead th {\n",
       "        text-align: right;\n",
       "    }\n",
       "</style>\n",
       "<table border=\"1\" class=\"dataframe\">\n",
       "  <thead>\n",
       "    <tr style=\"text-align: right;\">\n",
       "      <th></th>\n",
       "      <th>model_id</th>\n",
       "      <th>model_arch</th>\n",
       "      <th>model_weights</th>\n",
       "      <th>name</th>\n",
       "      <th>description</th>\n",
       "      <th>__internal_madlib_id__</th>\n",
       "    </tr>\n",
       "  </thead>\n",
       "  <tbody>\n",
       "    <tr>\n",
       "      <th>0</th>\n",
       "      <td>1</td>\n",
       "      <td>{'class_name': 'Sequential', 'config': {'name'...</td>\n",
       "      <td>None</td>\n",
       "      <td>Domino</td>\n",
       "      <td>A simple model</td>\n",
       "      <td>__madlib_temp_96012004_1601508886_68634802__</td>\n",
       "    </tr>\n",
       "  </tbody>\n",
       "</table>\n",
       "</div>"
      ],
      "text/plain": [
       "   model_id                                         model_arch model_weights  \\\n",
       "0         1  {'class_name': 'Sequential', 'config': {'name'...          None   \n",
       "\n",
       "     name     description                        __internal_madlib_id__  \n",
       "0  Domino  A simple model  __madlib_temp_96012004_1601508886_68634802__  "
      ]
     },
     "execution_count": 9,
     "metadata": {},
     "output_type": "execute_result"
    }
   ],
   "source": [
    "%sql SELECT * FROM model_arch_library;"
   ]
  },
  {
   "cell_type": "markdown",
   "metadata": {},
   "source": [
    "## Load Keras Model (psycopg2 method)"
   ]
  },
  {
   "cell_type": "code",
   "execution_count": 10,
   "metadata": {},
   "outputs": [],
   "source": [
    "cur.execute(\"\"\"\n",
    "    SELECT madlib.load_keras_model('model_arch_library',            -- Output table\n",
    "                                 %s::JSON,  -- Model architecture\n",
    "                                 NULL,\n",
    "                                 'Domino',                          -- Name of model\n",
    "                                 'A simple model'                   -- Model description\n",
    "    )\n",
    "\"\"\",\n",
    "    [json_model]\n",
    "    )"
   ]
  },
  {
   "cell_type": "code",
   "execution_count": 11,
   "metadata": {
    "scrolled": true
   },
   "outputs": [
    {
     "name": "stdout",
     "output_type": "stream",
     "text": [
      " * postgresql://dominovaldano@localhost:6000/mnist\n",
      "2 rows affected.\n"
     ]
    },
    {
     "data": {
      "text/html": [
       "<div>\n",
       "<style scoped>\n",
       "    .dataframe tbody tr th:only-of-type {\n",
       "        vertical-align: middle;\n",
       "    }\n",
       "\n",
       "    .dataframe tbody tr th {\n",
       "        vertical-align: top;\n",
       "    }\n",
       "\n",
       "    .dataframe thead th {\n",
       "        text-align: right;\n",
       "    }\n",
       "</style>\n",
       "<table border=\"1\" class=\"dataframe\">\n",
       "  <thead>\n",
       "    <tr style=\"text-align: right;\">\n",
       "      <th></th>\n",
       "      <th>model_id</th>\n",
       "      <th>model_arch</th>\n",
       "      <th>name</th>\n",
       "      <th>description</th>\n",
       "    </tr>\n",
       "  </thead>\n",
       "  <tbody>\n",
       "    <tr>\n",
       "      <th>0</th>\n",
       "      <td>2</td>\n",
       "      <td>{'class_name': 'Sequential', 'config': {'name'...</td>\n",
       "      <td>Domino</td>\n",
       "      <td>A simple model</td>\n",
       "    </tr>\n",
       "    <tr>\n",
       "      <th>1</th>\n",
       "      <td>1</td>\n",
       "      <td>{'class_name': 'Sequential', 'config': {'name'...</td>\n",
       "      <td>Domino</td>\n",
       "      <td>A simple model</td>\n",
       "    </tr>\n",
       "  </tbody>\n",
       "</table>\n",
       "</div>"
      ],
      "text/plain": [
       "   model_id                                         model_arch    name  \\\n",
       "0         2  {'class_name': 'Sequential', 'config': {'name'...  Domino   \n",
       "1         1  {'class_name': 'Sequential', 'config': {'name'...  Domino   \n",
       "\n",
       "      description  \n",
       "0  A simple model  \n",
       "1  A simple model  "
      ]
     },
     "execution_count": 11,
     "metadata": {},
     "output_type": "execute_result"
    }
   ],
   "source": [
    "%sql SELECT model_id, model_arch, name, description FROM model_arch_library"
   ]
  },
  {
   "cell_type": "markdown",
   "metadata": {},
   "source": [
    "## Run predict"
   ]
  },
  {
   "cell_type": "code",
   "execution_count": null,
   "metadata": {},
   "outputs": [],
   "source": [
    "%%sql\n",
    "SELECT madlib.madlib_keras_predict('places100_mult_model_10iters',\n",
    "                                   'places100_test', 'id', 'x',\n",
    "                                   'places100_predictions', '0.05',\n",
    "                                   False, 5);"
   ]
  },
  {
   "cell_type": "markdown",
   "metadata": {},
   "source": [
    "## Check/Fix Connection Status"
   ]
  },
  {
   "cell_type": "code",
   "execution_count": 12,
   "metadata": {},
   "outputs": [],
   "source": [
    "from psycopg2 import extensions as ext"
   ]
  },
  {
   "cell_type": "code",
   "execution_count": 13,
   "metadata": {},
   "outputs": [],
   "source": [
    "status_codes = { ext.STATUS_PREPARED : 'PREPARED', \n",
    "                 ext.STATUS_READY : 'READY',\n",
    "                 ext.STATUS_IN_TRANSACTION : 'IN_TRANSACTION'\n",
    "               }"
   ]
  },
  {
   "cell_type": "code",
   "execution_count": 21,
   "metadata": {},
   "outputs": [
    {
     "name": "stdout",
     "output_type": "stream",
     "text": [
      "READY\n"
     ]
    }
   ],
   "source": [
    "print(status_codes[conn.status])"
   ]
  },
  {
   "cell_type": "code",
   "execution_count": 22,
   "metadata": {},
   "outputs": [],
   "source": [
    "cur.execute(\"SELECT 1\")"
   ]
  },
  {
   "cell_type": "code",
   "execution_count": 23,
   "metadata": {},
   "outputs": [
    {
     "data": {
      "text/plain": [
       "[(1,)]"
      ]
     },
     "execution_count": 23,
     "metadata": {},
     "output_type": "execute_result"
    }
   ],
   "source": [
    "cur.fetchall()"
   ]
  },
  {
   "cell_type": "code",
   "execution_count": 24,
   "metadata": {},
   "outputs": [],
   "source": [
    "conn.reset()\n",
    "conn.autocommit = True  # Always reverts back to False after a reset"
   ]
  },
  {
   "cell_type": "code",
   "execution_count": null,
   "metadata": {},
   "outputs": [],
   "source": []
  },
  {
   "cell_type": "markdown",
   "metadata": {},
   "source": [
    "## Below is from Frank's Notebook"
   ]
  },
  {
   "cell_type": "markdown",
   "metadata": {},
   "source": [
    "<a id=\"load_model_wts\"></a>\n",
    "## 3.  Load model weights\n",
    "\n",
    "<a id=\"load_model_wts_madlib\"></a>\n",
    "### 3a. Load weights from previous MADlib run\n",
    "\n",
    "Use UPDATE to load directly into the table.  For example, if 'model_weights' are the weights in the output table 'iris_model' from a previous run of 'madlib_keras_fit()' :"
   ]
  },
  {
   "cell_type": "code",
   "execution_count": null,
   "metadata": {},
   "outputs": [],
   "source": [
    "%%sql\n",
    "UPDATE model_arch_library\n",
    "SET model_weights = iris_model.model_weights\n",
    "FROM iris_model\n",
    "WHERE model_arch_library.model_id = 2;\n",
    "\n",
    "-- Check weights loaded OK\n",
    "SELECT COUNT(*) FROM model_arch_library WHERE model_weights IS NOT NULL;"
   ]
  },
  {
   "cell_type": "markdown",
   "metadata": {},
   "source": [
    "<a id=\"load_model_wts_keras1\"></a>\n",
    "### 3b. Load weights from Keras using a PL/Python function \n",
    "We need to flatten then serialize the weights to store as a PostgreSQL binary data type.  Byte format is more efficient on space and memory compared to a numeric array.  The model weights will be de-serialized when passed to Keras functions."
   ]
  },
  {
   "cell_type": "code",
   "execution_count": null,
   "metadata": {},
   "outputs": [],
   "source": [
    "%%sql\n",
    "CREATE OR REPLACE FUNCTION load_weights() RETURNS VOID AS\n",
    "$$\n",
    "from keras.layers import *\n",
    "from keras import Sequential\n",
    "import numpy as np\n",
    "import plpy\n",
    "\n",
    "# create model\n",
    "model = Sequential()\n",
    "model.add(Dense(10, activation='relu', input_shape=(4,)))\n",
    "model.add(Dense(10, activation='relu'))\n",
    "model.add(Dense(3, activation='softmax'))\n",
    "\n",
    "# get weights, flatten and serialize\n",
    "weights = model.get_weights()\n",
    "weights_flat = [w.flatten() for w in weights]\n",
    "weights1d =  np.concatenate(weights_flat).ravel()\n",
    "weights_bytea = weights1d.tostring()\n",
    "\n",
    "# load query\n",
    "load_query = plpy.prepare(\"\"\"SELECT madlib.load_keras_model(\n",
    "                        'model_arch_library',\n",
    "                        $1, $2, $3, $4)\n",
    "                    \"\"\", ['json','bytea', 'text', 'text'])\n",
    "plpy.execute(load_query, [model.to_json(), weights_bytea, \"Ella\", \"Model x\"])\n",
    "$$ language plpythonu;\n",
    "\n",
    "-- Call load function\n",
    "SELECT load_weights();\n",
    "\n",
    "-- Check weights loaded OK\n",
    "SELECT COUNT(*) FROM model_arch_library WHERE model_weights IS NOT NULL;"
   ]
  },
  {
   "cell_type": "code",
   "execution_count": null,
   "metadata": {},
   "outputs": [],
   "source": [
    "%%sql\n",
    "SELECT model_id, name from model_arch_library ORDER BY model_id;"
   ]
  },
  {
   "cell_type": "markdown",
   "metadata": {},
   "source": [
    "<a id=\"load_model_wts_keras2\"></a>\n",
    "### 3c. Load weights from Keras using psycopg2\n",
    "Psycopg is a PostgreSQL database adapter for the Python programming language.  As above we need to flatten then serialize the weights to store as a PostgreSQL binary data type.\n",
    "\n",
    "Note that the psycopg2.Binary function will increase the size of the Python object for the weights, so if your model is large it might be better to use a PL/Python function as in 3b. above."
   ]
  },
  {
   "cell_type": "code",
   "execution_count": null,
   "metadata": {},
   "outputs": [],
   "source": [
    "import psycopg2 as p2\n",
    "#conn = p2.connect('postgresql://gpadmin@35.239.240.26:5432/madlib')\n",
    "conn = p2.connect('postgresql://fmcquillan@localhost:5432/madlib')\n",
    "cur = conn.cursor()\n",
    "\n",
    "from keras.layers import *\n",
    "from keras import Sequential\n",
    "import numpy as np\n",
    "\n",
    "# create model\n",
    "model = Sequential()\n",
    "model.add(Dense(10, activation='relu', input_shape=(4,)))\n",
    "model.add(Dense(10, activation='relu'))\n",
    "model.add(Dense(3, activation='softmax'))\n",
    "\n",
    "# get weights, flatten and serialize\n",
    "weights = model.get_weights()\n",
    "weights_flat = [w.flatten() for w in weights]\n",
    "weights1d =  np.concatenate(weights_flat).ravel()\n",
    "weights_bytea = p2.Binary(weights1d.tostring())\n",
    "\n",
    "query = \"SELECT madlib.load_keras_model('model_arch_library', %s,%s,%s,%s)\"\n",
    "cur.execute(query,[model.to_json(), weights_bytea, \"Grace\", \"Model y\"])\n",
    "conn.commit()\n",
    "\n",
    "# check weights loaded OK\n",
    "%sql SELECT COUNT(*) FROM model_arch_library WHERE model_weights IS NOT NULL;"
   ]
  },
  {
   "cell_type": "code",
   "execution_count": null,
   "metadata": {},
   "outputs": [],
   "source": [
    "%%sql\n",
    "SELECT model_id, name from model_arch_library ORDER BY model_id;"
   ]
  }
 ],
 "metadata": {
  "kernelspec": {
   "display_name": "Python 3",
   "language": "python3",
   "name": "python3"
  },
  "language_info": {
   "codemirror_mode": {
    "name": "ipython",
    "version": 3
   },
   "file_extension": ".py",
   "mimetype": "text/x-python",
   "name": "python",
   "nbconvert_exporter": "python",
   "pygments_lexer": "ipython3",
   "version": "3.8.5"
  }
 },
 "nbformat": 4,
 "nbformat_minor": 4
}
